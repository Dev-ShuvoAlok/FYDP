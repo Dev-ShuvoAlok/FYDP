{
 "cells": [
  {
   "cell_type": "code",
   "execution_count": 1,
   "id": "a3922bcb",
   "metadata": {
    "_cell_guid": "b1076dfc-b9ad-4769-8c92-a6c4dae69d19",
    "_uuid": "8f2839f25d086af736a60e9eeb907d3b93b6e0e5",
    "execution": {
     "iopub.execute_input": "2023-01-24T04:57:33.587516Z",
     "iopub.status.busy": "2023-01-24T04:57:33.587060Z",
     "iopub.status.idle": "2023-01-24T04:57:40.470925Z",
     "shell.execute_reply": "2023-01-24T04:57:40.469986Z"
    },
    "id": "ff44c522",
    "papermill": {
     "duration": 6.893677,
     "end_time": "2023-01-24T04:57:40.473588",
     "exception": false,
     "start_time": "2023-01-24T04:57:33.579911",
     "status": "completed"
    },
    "tags": []
   },
   "outputs": [],
   "source": [
    "import os\n",
    "\n",
    "from platform import python_version\n",
    "import warnings\n",
    "import time\n",
    "import datetime as dt\n",
    "from sklearn.metrics import classification_report, confusion_matrix\n",
    "import multiprocessing as mp\n",
    "import shutil\n",
    "\n",
    "import matplotlib.pyplot as plt\n",
    "import matplotlib.image as mpimg\n",
    "\n",
    "import tensorflow as tf\n",
    "from tensorflow.keras import backend as K\n",
    "from tensorflow.keras.preprocessing.image import ImageDataGenerator\n",
    "from tensorflow.keras.applications.densenet import DenseNet169, preprocess_input, decode_predictions\n",
    "from tensorflow.keras.models import *\n",
    "from tensorflow.keras.layers import *\n",
    "from tensorflow.keras.optimizers import *\n",
    "from tensorflow.keras.utils import *\n",
    "from tensorflow.keras.callbacks import *\n",
    "from tensorflow.keras.initializers import *\n",
    "from tensorflow.keras import regularizers\n",
    "\n",
    "import pandas as pd\n",
    "import numpy as np\n",
    "import seaborn as sns\n",
    "from plotly.subplots import make_subplots\n",
    "import plotly.graph_objects as go\n",
    "\n",
    "from PIL import Image\n",
    "import xml.etree.ElementTree as ET\n",
    "import psutil\n",
    "import random\n",
    "\n",
    "warnings.filterwarnings(\"ignore\")\n",
    "%matplotlib inline"
   ]
  },
  {
   "cell_type": "code",
   "execution_count": 2,
   "id": "cd64a7e9",
   "metadata": {
    "_cell_guid": "79c7e3d0-c299-4dcb-8224-4455121ee9b0",
    "_uuid": "d629ff2d2480ee46fbb7e2d37f6b5fab8052498a",
    "execution": {
     "iopub.execute_input": "2023-01-24T04:57:40.484225Z",
     "iopub.status.busy": "2023-01-24T04:57:40.483695Z",
     "iopub.status.idle": "2023-01-24T04:57:40.489541Z",
     "shell.execute_reply": "2023-01-24T04:57:40.488484Z"
    },
    "id": "95ffdfdd",
    "papermill": {
     "duration": 0.013675,
     "end_time": "2023-01-24T04:57:40.491880",
     "exception": false,
     "start_time": "2023-01-24T04:57:40.478205",
     "status": "completed"
    },
    "tags": []
   },
   "outputs": [],
   "source": [
    "epochs = 100\n",
    "batch_size = 48\n",
    "testsplit = .5\n",
    "targetx = 128\n",
    "targety = 128\n",
    "learning_rate = 0.0001\n",
    "classes = 7\n",
    "seed = random.randint(1, 1000)\n",
    "target_names=['angry','disgust','fear','happy','neutral','sad','surprise']\n",
    "\n",
    "data_dir = \"/kaggle/input/fer2013/train/\"\n",
    "data_dir1 = \"/kaggle/input/fer2013/test/\""
   ]
  },
  {
   "cell_type": "code",
   "execution_count": 3,
   "id": "7a576d5e",
   "metadata": {
    "execution": {
     "iopub.execute_input": "2023-01-24T04:57:40.501516Z",
     "iopub.status.busy": "2023-01-24T04:57:40.501257Z",
     "iopub.status.idle": "2023-01-24T04:57:52.236560Z",
     "shell.execute_reply": "2023-01-24T04:57:52.235410Z"
    },
    "id": "264e7030",
    "outputId": "4c38dcb8-8c61-4043-ce7b-65e7907d050c",
    "papermill": {
     "duration": 11.74292,
     "end_time": "2023-01-24T04:57:52.239156",
     "exception": false,
     "start_time": "2023-01-24T04:57:40.496236",
     "status": "completed"
    },
    "tags": []
   },
   "outputs": [
    {
     "name": "stdout",
     "output_type": "stream",
     "text": [
      "Found 28709 images belonging to 7 classes.\n",
      "Found 3591 images belonging to 7 classes.\n",
      "Found 3587 images belonging to 7 classes.\n"
     ]
    }
   ],
   "source": [
    "train_datagen = ImageDataGenerator(\n",
    "        rescale=1./255,\n",
    "        shear_range=0.2,\n",
    "        zoom_range=0.2,\n",
    "        rotation_range=30,\n",
    "        brightness_range=[0.9,1.1],\n",
    "        horizontal_flip=True,\n",
    "        fill_mode='nearest',\n",
    "        preprocessing_function=preprocess_input\n",
    ")\n",
    "test_datagen = ImageDataGenerator(\n",
    "        rescale=1./255,\n",
    "        validation_split=testsplit,\n",
    "        preprocessing_function=preprocess_input\n",
    ")\n",
    "\n",
    "train_generator = train_datagen.flow_from_directory(\n",
    "        data_dir,\n",
    "        target_size=(targetx, targety),\n",
    "        batch_size=batch_size,\n",
    "        class_mode='categorical',\n",
    "        shuffle=True,\n",
    "        seed=seed,\n",
    "       \n",
    ")\n",
    "val_generator = test_datagen.flow_from_directory(\n",
    "        data_dir1,\n",
    "        target_size=(targetx, targety),\n",
    "        batch_size=batch_size,\n",
    "        class_mode='categorical',\n",
    "        shuffle=False,\n",
    "        seed=seed,\n",
    "     subset=\"training\"\n",
    "        \n",
    ")\n",
    "\n",
    "test_generator = test_datagen.flow_from_directory(\n",
    "        data_dir1,\n",
    "        target_size=(targetx, targety),\n",
    "        batch_size=batch_size,\n",
    "        class_mode='categorical',\n",
    "        shuffle=False,\n",
    "    subset=\"validation\",\n",
    "        seed=seed\n",
    ")"
   ]
  },
  {
   "cell_type": "code",
   "execution_count": 4,
   "id": "8f6678a3",
   "metadata": {
    "execution": {
     "iopub.execute_input": "2023-01-24T04:57:52.250719Z",
     "iopub.status.busy": "2023-01-24T04:57:52.249767Z",
     "iopub.status.idle": "2023-01-24T04:57:52.470832Z",
     "shell.execute_reply": "2023-01-24T04:57:52.469929Z"
    },
    "id": "3e183869",
    "outputId": "a8872aaa-3c5f-4f47-acc1-4ed27c8db994",
    "papermill": {
     "duration": 0.228834,
     "end_time": "2023-01-24T04:57:52.472945",
     "exception": false,
     "start_time": "2023-01-24T04:57:52.244111",
     "status": "completed"
    },
    "tags": []
   },
   "outputs": [
    {
     "name": "stdout",
     "output_type": "stream",
     "text": [
      "/kaggle/input/fer2013/train/surprise/Training_57994832.jpg\n"
     ]
    },
    {
     "data": {
      "text/plain": [
       "<matplotlib.image.AxesImage at 0x7fb837c34ed0>"
      ]
     },
     "execution_count": 4,
     "metadata": {},
     "output_type": "execute_result"
    },
    {
     "data": {
      "image/png": "[encoded data removed]",
      "text/plain": [
       "<Figure size 432x288 with 1 Axes>"
      ]
     },
     "metadata": {
      "needs_background": "light"
     },
     "output_type": "display_data"
    }
   ],
   "source": [
    "img = train_generator.filepaths[np.random.random_integers(low=0, high=train_generator.samples)]\n",
    "print(img)\n",
    "img = mpimg.imread(img)\n",
    "plt.imshow(img)"
   ]
  },
  {
   "cell_type": "code",
   "execution_count": 5,
   "id": "bf025c9c",
   "metadata": {
    "execution": {
     "iopub.execute_input": "2023-01-24T04:57:52.484289Z",
     "iopub.status.busy": "2023-01-24T04:57:52.483505Z",
     "iopub.status.idle": "2023-01-24T04:57:52.772193Z",
     "shell.execute_reply": "2023-01-24T04:57:52.770845Z"
    },
    "id": "c3879b03",
    "outputId": "786b2c24-a14b-46ff-f903-798a6fc8c667",
    "papermill": {
     "duration": 0.296513,
     "end_time": "2023-01-24T04:57:52.774337",
     "exception": false,
     "start_time": "2023-01-24T04:57:52.477824",
     "status": "completed"
    },
    "tags": []
   },
   "outputs": [
    {
     "name": "stderr",
     "output_type": "stream",
     "text": [
      "2023-01-24 04:57:52.493783: I tensorflow/core/profiler/lib/profiler_session.cc:131] Profiler session initializing.\n",
      "2023-01-24 04:57:52.493822: I tensorflow/core/profiler/lib/profiler_session.cc:146] Profiler session started.\n",
      "2023-01-24 04:57:52.613950: I tensorflow/core/profiler/internal/gpu/cupti_tracer.cc:1614] Profiler found 2 GPUs\n",
      "2023-01-24 04:57:52.663706: I tensorflow/core/profiler/lib/profiler_session.cc:164] Profiler session tear down.\n",
      "2023-01-24 04:57:52.663858: I tensorflow/core/profiler/internal/gpu/cupti_tracer.cc:1748] CUPTI activity buffer flushed\n"
     ]
    }
   ],
   "source": [
    "checkpoint = ModelCheckpoint('ensambleModel.tf',\n",
    "                             monitor='val_accuracy',\n",
    "                             save_best_only=True,\n",
    "                             verbose=1,\n",
    "                             mode='auto',\n",
    "                             save_weights_only=False,\n",
    "                             period=1)\n",
    "\n",
    "tensorboard = TensorBoard(log_dir=\"./logs-\"+dt.datetime.now().strftime(\"%m%d%Y%H%M%S\"),\n",
    "                            histogram_freq=0,\n",
    "                            batch_size=batch_size,\n",
    "                            write_graph=False,\n",
    "                            update_freq='epoch')\n",
    "\n",
    "def epoch_end(epoch, logs):\n",
    "    message = \"End of epoch \"+str(epoch)+\". Learning rate: \"+str(K.eval(model.optimizer.lr))\n",
    "    os.system('echo '+message)\n",
    "\n",
    "def epoch_begin(epoch, logs):\n",
    "    print(\"Learning rate: \", K.eval(model.optimizer.lr))\n",
    "    \n",
    "def train_begin(logs):\n",
    "    os.system(\"echo Beginning training\")\n",
    "\n",
    "earlystop = EarlyStopping(monitor='val_accuracy',\n",
    "                          min_delta=.0001,\n",
    "                          patience=20,\n",
    "                          verbose=1,\n",
    "                          mode='auto',\n",
    "                          baseline=None,\n",
    "                          restore_best_weights=True)\n",
    "\n",
    "reducelr = ReduceLROnPlateau(monitor='val_accuracy',\n",
    "                             factor=np.sqrt(.1),\n",
    "                             patience=5,\n",
    "                             verbose=1,\n",
    "                             mode='auto',\n",
    "                             min_delta=.0001,\n",
    "                             cooldown=0,\n",
    "                             min_lr=0.0000001)\n",
    "\n",
    "lambdacb = LambdaCallback(on_epoch_begin=epoch_begin,\n",
    "                          on_epoch_end=epoch_end,\n",
    "                          on_batch_begin=None,\n",
    "                          on_batch_end=None,\n",
    "                          on_train_begin=train_begin,\n",
    "                          on_train_end=None)"
   ]
  },
  {
   "cell_type": "code",
   "execution_count": 6,
   "id": "c137a7f8",
   "metadata": {
    "execution": {
     "iopub.execute_input": "2023-01-24T04:57:52.786738Z",
     "iopub.status.busy": "2023-01-24T04:57:52.785770Z",
     "iopub.status.idle": "2023-01-24T04:57:52.792648Z",
     "shell.execute_reply": "2023-01-24T04:57:52.791672Z"
    },
    "papermill": {
     "duration": 0.015143,
     "end_time": "2023-01-24T04:57:52.794654",
     "exception": false,
     "start_time": "2023-01-24T04:57:52.779511",
     "status": "completed"
    },
    "tags": []
   },
   "outputs": [],
   "source": [
    "import tensorflow as tf\n",
    "from keras import regularizers\n",
    "from tensorflow.keras.preprocessing.image import ImageDataGenerator, load_img\n",
    "from tensorflow.keras.layers import Dense, Input, Dropout,Flatten, Conv2D\n",
    "from tensorflow.keras.layers import BatchNormalization, Activation, MaxPooling2D\n",
    "from tensorflow.keras.models import Model, Sequential\n",
    "from tensorflow.keras.optimizers import Adam\n",
    "from tensorflow.keras.callbacks import ModelCheckpoint, ReduceLROnPlateau\n",
    "from tensorflow.keras.utils import plot_model"
   ]
  },
  {
   "cell_type": "code",
   "execution_count": 7,
   "id": "6223736c",
   "metadata": {
    "execution": {
     "iopub.execute_input": "2023-01-24T04:57:52.806326Z",
     "iopub.status.busy": "2023-01-24T04:57:52.804832Z",
     "iopub.status.idle": "2023-01-24T04:58:25.780157Z",
     "shell.execute_reply": "2023-01-24T04:58:25.773823Z"
    },
    "papermill": {
     "duration": 32.983619,
     "end_time": "2023-01-24T04:58:25.782906",
     "exception": false,
     "start_time": "2023-01-24T04:57:52.799287",
     "status": "completed"
    },
    "tags": []
   },
   "outputs": [
    {
     "name": "stderr",
     "output_type": "stream",
     "text": [
      "2023-01-24 04:57:53.197179: I tensorflow/stream_executor/cuda/cuda_gpu_executor.cc:937] successful NUMA node read from SysFS had negative value (-1), but there must be at least one NUMA node, so returning NUMA node zero\n",
      "2023-01-24 04:57:53.198316: I tensorflow/stream_executor/cuda/cuda_gpu_executor.cc:937] successful NUMA node read from SysFS had negative value (-1), but there must be at least one NUMA node, so returning NUMA node zero\n",
      "2023-01-24 04:57:53.335242: I tensorflow/stream_executor/cuda/cuda_gpu_executor.cc:937] successful NUMA node read from SysFS had negative value (-1), but there must be at least one NUMA node, so returning NUMA node zero\n",
      "2023-01-24 04:57:53.336136: I tensorflow/stream_executor/cuda/cuda_gpu_executor.cc:937] successful NUMA node read from SysFS had negative value (-1), but there must be at least one NUMA node, so returning NUMA node zero\n",
      "2023-01-24 04:57:53.336903: I tensorflow/stream_executor/cuda/cuda_gpu_executor.cc:937] successful NUMA node read from SysFS had negative value (-1), but there must be at least one NUMA node, so returning NUMA node zero\n",
      "2023-01-24 04:57:53.337715: I tensorflow/stream_executor/cuda/cuda_gpu_executor.cc:937] successful NUMA node read from SysFS had negative value (-1), but there must be at least one NUMA node, so returning NUMA node zero\n",
      "2023-01-24 04:57:53.339173: I tensorflow/core/platform/cpu_feature_guard.cc:142] This TensorFlow binary is optimized with oneAPI Deep Neural Network Library (oneDNN) to use the following CPU instructions in performance-critical operations:  AVX2 AVX512F FMA\n",
      "To enable them in other operations, rebuild TensorFlow with the appropriate compiler flags.\n",
      "2023-01-24 04:57:53.598960: I tensorflow/stream_executor/cuda/cuda_gpu_executor.cc:937] successful NUMA node read from SysFS had negative value (-1), but there must be at least one NUMA node, so returning NUMA node zero\n",
      "2023-01-24 04:57:53.599824: I tensorflow/stream_executor/cuda/cuda_gpu_executor.cc:937] successful NUMA node read from SysFS had negative value (-1), but there must be at least one NUMA node, so returning NUMA node zero\n",
      "2023-01-24 04:57:53.600628: I tensorflow/stream_executor/cuda/cuda_gpu_executor.cc:937] successful NUMA node read from SysFS had negative value (-1), but there must be at least one NUMA node, so returning NUMA node zero\n",
      "2023-01-24 04:57:53.601335: I tensorflow/stream_executor/cuda/cuda_gpu_executor.cc:937] successful NUMA node read from SysFS had negative value (-1), but there must be at least one NUMA node, so returning NUMA node zero\n",
      "2023-01-24 04:57:53.602017: I tensorflow/stream_executor/cuda/cuda_gpu_executor.cc:937] successful NUMA node read from SysFS had negative value (-1), but there must be at least one NUMA node, so returning NUMA node zero\n",
      "2023-01-24 04:57:53.602693: I tensorflow/stream_executor/cuda/cuda_gpu_executor.cc:937] successful NUMA node read from SysFS had negative value (-1), but there must be at least one NUMA node, so returning NUMA node zero\n",
      "2023-01-24 04:57:56.466388: I tensorflow/stream_executor/cuda/cuda_gpu_executor.cc:937] successful NUMA node read from SysFS had negative value (-1), but there must be at least one NUMA node, so returning NUMA node zero\n",
      "2023-01-24 04:57:56.467614: I tensorflow/stream_executor/cuda/cuda_gpu_executor.cc:937] successful NUMA node read from SysFS had negative value (-1), but there must be at least one NUMA node, so returning NUMA node zero\n",
      "2023-01-24 04:57:56.468808: I tensorflow/stream_executor/cuda/cuda_gpu_executor.cc:937] successful NUMA node read from SysFS had negative value (-1), but there must be at least one NUMA node, so returning NUMA node zero\n",
      "2023-01-24 04:57:56.469840: I tensorflow/stream_executor/cuda/cuda_gpu_executor.cc:937] successful NUMA node read from SysFS had negative value (-1), but there must be at least one NUMA node, so returning NUMA node zero\n",
      "2023-01-24 04:57:56.470791: I tensorflow/stream_executor/cuda/cuda_gpu_executor.cc:937] successful NUMA node read from SysFS had negative value (-1), but there must be at least one NUMA node, so returning NUMA node zero\n",
      "2023-01-24 04:57:56.471700: I tensorflow/core/common_runtime/gpu/gpu_device.cc:1510] Created device /job:localhost/replica:0/task:0/device:GPU:0 with 13789 MB memory:  -> device: 0, name: Tesla T4, pci bus id: 0000:00:04.0, compute capability: 7.5\n",
      "2023-01-24 04:57:56.475192: I tensorflow/stream_executor/cuda/cuda_gpu_executor.cc:937] successful NUMA node read from SysFS had negative value (-1), but there must be at least one NUMA node, so returning NUMA node zero\n",
      "2023-01-24 04:57:56.476165: I tensorflow/core/common_runtime/gpu/gpu_device.cc:1510] Created device /job:localhost/replica:0/task:0/device:GPU:1 with 13789 MB memory:  -> device: 1, name: Tesla T4, pci bus id: 0000:00:05.0, compute capability: 7.5\n"
     ]
    },
    {
     "name": "stdout",
     "output_type": "stream",
     "text": [
      "Model: \"ensemble\"\n",
      "__________________________________________________________________________________________________\n",
      "Layer (type)                    Output Shape         Param #     Connected to                     \n",
      "==================================================================================================\n",
      "input_1 (InputLayer)            [(None, 128, 128, 3) 0                                            \n",
      "__________________________________________________________________________________________________\n",
      "name_of_model_1 (Functional)    (None, 7)            7702599     input_1[0][0]                    \n",
      "__________________________________________________________________________________________________\n",
      "name_of_model_2 (Functional)    (None, 7)            13638215    input_1[0][0]                    \n",
      "__________________________________________________________________________________________________\n",
      "name_of_model_3 (Functional)    (None, 7)            19449415    input_1[0][0]                    \n",
      "__________________________________________________________________________________________________\n",
      "average (Average)               (None, 7)            0           name_of_model_1[0][0]            \n",
      "                                                                 name_of_model_2[0][0]            \n",
      "                                                                 name_of_model_3[0][0]            \n",
      "==================================================================================================\n",
      "Total params: 40,790,229\n",
      "Trainable params: 40,305,301\n",
      "Non-trainable params: 484,928\n",
      "__________________________________________________________________________________________________\n"
     ]
    }
   ],
   "source": [
    "from tensorflow.keras.models import Model, load_model\n",
    "from tensorflow.keras.layers import Input, Average\n",
    "model_1 = load_model('/kaggle/input/ens-densenet/DenseNet121.h5')\n",
    "model_1 = Model(inputs=model_1.inputs,\n",
    "                outputs=model_1.outputs,\n",
    "                name='name_of_model_1')\n",
    "\n",
    "model_2 = load_model('/kaggle/input/ens-densenet/DenseNet169.h5')\n",
    "model_2 = Model(inputs=model_2.inputs,\n",
    "                outputs=model_2.outputs,\n",
    "                name='name_of_model_2')\n",
    "\n",
    "model_3 = load_model('/kaggle/input/ens-densenet/DenseNet201.h5')\n",
    "model_3 = Model(inputs=model_3.inputs,\n",
    "                outputs=model_3.outputs,\n",
    "                name='name_of_model_3')\n",
    "\n",
    "models = [model_1, model_2,model_3]\n",
    "model_input = Input(shape=(targetx, targety, 3))\n",
    "model_outputs = [model(model_input) for model in models]\n",
    "ensemble_output = Average()(model_outputs)\n",
    "model = Model(inputs=model_input, outputs=ensemble_output, name='ensemble')\n",
    "\n",
    "optimizer = Adam(lr=learning_rate)\n",
    "loss = \"categorical_crossentropy\"\n",
    "\n",
    "model.compile(optimizer=optimizer,\n",
    "              loss=loss,\n",
    "              metrics=[\"accuracy\"])\n",
    "\n",
    "model.summary()\n"
   ]
  },
  {
   "cell_type": "code",
   "execution_count": 8,
   "id": "5cea3b5f",
   "metadata": {
    "execution": {
     "iopub.execute_input": "2023-01-24T04:58:25.795182Z",
     "iopub.status.busy": "2023-01-24T04:58:25.794614Z",
     "iopub.status.idle": "2023-01-24T04:58:26.841876Z",
     "shell.execute_reply": "2023-01-24T04:58:26.840586Z"
    },
    "papermill": {
     "duration": 1.056234,
     "end_time": "2023-01-24T04:58:26.844797",
     "exception": false,
     "start_time": "2023-01-24T04:58:25.788563",
     "status": "completed"
    },
    "tags": []
   },
   "outputs": [
    {
     "data": {
      "image/png": "[encoded data removed]",
      "text/plain": [
       "<IPython.core.display.Image object>"
      ]
     },
     "execution_count": 8,
     "metadata": {},
     "output_type": "execute_result"
    }
   ],
   "source": [
    "from tensorflow.keras.utils import plot_model\n",
    "plot_model(model, to_file='model.png', show_shapes=True, show_layer_names=True)\n",
    "from IPython.display import Image\n",
    "Image(\"model.png\")"
   ]
  },
  {
   "cell_type": "code",
   "execution_count": 9,
   "id": "d19da41d",
   "metadata": {
    "execution": {
     "iopub.execute_input": "2023-01-24T04:58:26.858850Z",
     "iopub.status.busy": "2023-01-24T04:58:26.858074Z",
     "iopub.status.idle": "2023-01-24T11:32:21.522788Z",
     "shell.execute_reply": "2023-01-24T11:32:21.521516Z"
    },
    "id": "707f6c27",
    "outputId": "4af25da6-6089-4bdc-9100-5eb1bf304221",
    "papermill": {
     "duration": 23634.679289,
     "end_time": "2023-01-24T11:32:21.530349",
     "exception": false,
     "start_time": "2023-01-24T04:58:26.851060",
     "status": "completed"
    },
    "tags": []
   },
   "outputs": [
    {
     "name": "stdout",
     "output_type": "stream",
     "text": [
      "Beginning training\n",
      "Epoch 1/100\n",
      "Learning rate:  1e-04\n"
     ]
    },
    {
     "name": "stderr",
     "output_type": "stream",
     "text": [
      "2023-01-24 04:58:27.457986: I tensorflow/compiler/mlir/mlir_graph_optimization_pass.cc:185] None of the MLIR Optimization Passes are enabled (registered 2)\n",
      "2023-01-24 04:59:20.532521: I tensorflow/stream_executor/cuda/cuda_dnn.cc:369] Loaded cuDNN version 8005\n"
     ]
    },
    {
     "name": "stdout",
     "output_type": "stream",
     "text": [
      "  1/599 [..............................] - ETA: 11:12:10 - loss: 0.5760 - accuracy: 0.9792"
     ]
    },
    {
     "name": "stderr",
     "output_type": "stream",
     "text": [
      "2023-01-24 04:59:34.947832: I tensorflow/core/profiler/lib/profiler_session.cc:131] Profiler session initializing.\n",
      "2023-01-24 04:59:34.947896: I tensorflow/core/profiler/lib/profiler_session.cc:146] Profiler session started.\n"
     ]
    },
    {
     "name": "stdout",
     "output_type": "stream",
     "text": [
      "  2/599 [..............................] - ETA: 19:04 - loss: 0.5112 - accuracy: 0.9896   "
     ]
    },
    {
     "name": "stderr",
     "output_type": "stream",
     "text": [
      "2023-01-24 04:59:36.871282: I tensorflow/core/profiler/lib/profiler_session.cc:66] Profiler session collecting data.\n",
      "2023-01-24 04:59:36.881434: I tensorflow/core/profiler/internal/gpu/cupti_tracer.cc:1748] CUPTI activity buffer flushed\n",
      "2023-01-24 04:59:37.223292: I tensorflow/core/profiler/internal/gpu/cupti_collector.cc:673]  GpuTracer has collected 12240 callback api events and 12237 activity events. \n",
      "2023-01-24 04:59:37.594537: I tensorflow/core/profiler/lib/profiler_session.cc:164] Profiler session tear down.\n",
      "2023-01-24 04:59:38.029671: I tensorflow/core/profiler/rpc/client/save_profile.cc:136] Creating directory: ./logs-01242023045752/train/plugins/profile/2023_01_24_04_59_37\n",
      "\n",
      "2023-01-24 04:59:38.363388: I tensorflow/core/profiler/rpc/client/save_profile.cc:142] Dumped gzipped tool data for trace.json.gz to ./logs-01242023045752/train/plugins/profile/2023_01_24_04_59_37/b07da00b5be9.trace.json.gz\n",
      "2023-01-24 04:59:39.066109: I tensorflow/core/profiler/rpc/client/save_profile.cc:136] Creating directory: ./logs-01242023045752/train/plugins/profile/2023_01_24_04_59_37\n",
      "\n",
      "2023-01-24 04:59:39.081798: I tensorflow/core/profiler/rpc/client/save_profile.cc:142] Dumped gzipped tool data for memory_profile.json.gz to ./logs-01242023045752/train/plugins/profile/2023_01_24_04_59_37/b07da00b5be9.memory_profile.json.gz\n",
      "2023-01-24 04:59:39.106968: I tensorflow/core/profiler/rpc/client/capture_profile.cc:251] Creating directory: ./logs-01242023045752/train/plugins/profile/2023_01_24_04_59_37\n",
      "Dumped tool data for xplane.pb to ./logs-01242023045752/train/plugins/profile/2023_01_24_04_59_37/b07da00b5be9.xplane.pb\n",
      "Dumped tool data for overview_page.pb to ./logs-01242023045752/train/plugins/profile/2023_01_24_04_59_37/b07da00b5be9.overview_page.pb\n",
      "Dumped tool data for input_pipeline.pb to ./logs-01242023045752/train/plugins/profile/2023_01_24_04_59_37/b07da00b5be9.input_pipeline.pb\n",
      "Dumped tool data for tensorflow_stats.pb to ./logs-01242023045752/train/plugins/profile/2023_01_24_04_59_37/b07da00b5be9.tensorflow_stats.pb\n",
      "Dumped tool data for kernel_stats.pb to ./logs-01242023045752/train/plugins/profile/2023_01_24_04_59_37/b07da00b5be9.kernel_stats.pb\n",
      "\n"
     ]
    },
    {
     "name": "stdout",
     "output_type": "stream",
     "text": [
      "599/599 [==============================] - 572s 844ms/step - loss: 0.5760 - accuracy: 0.9257 - val_loss: 1.3892 - val_accuracy: 0.6831\n",
      "End of epoch 0. Learning rate: 1e-04\n",
      "\n",
      "Epoch 00001: val_accuracy improved from -inf to 0.68310, saving model to ensambleModel.tf\n"
     ]
    },
    {
     "name": "stderr",
     "output_type": "stream",
     "text": [
      "2023-01-24 05:09:37.510532: W tensorflow/python/util/util.cc:348] Sets are not currently considered sequences, but this may change in the future, so consider avoiding using them.\n"
     ]
    },
    {
     "name": "stdout",
     "output_type": "stream",
     "text": [
      "Epoch 2/100\n",
      "Learning rate:  1e-04\n",
      "599/599 [==============================] - 488s 814ms/step - loss: 0.5684 - accuracy: 0.9090 - val_loss: 1.3716 - val_accuracy: 0.6814\n",
      "End of epoch 1. Learning rate: 1e-04\n",
      "\n",
      "Epoch 00002: val_accuracy did not improve from 0.68310\n",
      "Epoch 3/100\n",
      "Learning rate:  1e-04\n",
      "599/599 [==============================] - 503s 840ms/step - loss: 0.5733 - accuracy: 0.8940 - val_loss: 1.3290 - val_accuracy: 0.6953\n",
      "End of epoch 2. Learning rate: 1e-04\n",
      "\n",
      "Epoch 00003: val_accuracy improved from 0.68310 to 0.69535, saving model to ensambleModel.tf\n",
      "Epoch 4/100\n",
      "Learning rate:  1e-04\n",
      "599/599 [==============================] - 503s 839ms/step - loss: 0.5360 - accuracy: 0.8985 - val_loss: 1.3082 - val_accuracy: 0.6845\n",
      "End of epoch 3. Learning rate: 1e-04\n",
      "\n",
      "Epoch 00004: val_accuracy did not improve from 0.69535\n",
      "Epoch 5/100\n",
      "Learning rate:  1e-04\n",
      "599/599 [==============================] - 506s 844ms/step - loss: 0.5367 - accuracy: 0.8938 - val_loss: 1.3361 - val_accuracy: 0.6873\n",
      "End of epoch 4. Learning rate: 1e-04\n",
      "\n",
      "Epoch 00005: val_accuracy did not improve from 0.69535\n",
      "Epoch 6/100\n",
      "Learning rate:  1e-04\n",
      "599/599 [==============================] - 504s 840ms/step - loss: 0.4890 - accuracy: 0.9022 - val_loss: 1.3470 - val_accuracy: 0.6923\n",
      "End of epoch 5. Learning rate: 1e-04\n",
      "\n",
      "Epoch 00006: val_accuracy did not improve from 0.69535\n",
      "Epoch 7/100\n",
      "Learning rate:  1e-04\n",
      "599/599 [==============================] - 509s 848ms/step - loss: 0.4832 - accuracy: 0.8992 - val_loss: 1.3398 - val_accuracy: 0.6873\n",
      "End of epoch 6. Learning rate: 1e-04\n",
      "\n",
      "Epoch 00007: val_accuracy did not improve from 0.69535\n",
      "Epoch 8/100\n",
      "Learning rate:  1e-04\n",
      "599/599 [==============================] - 509s 848ms/step - loss: 0.4905 - accuracy: 0.8938 - val_loss: 1.2619 - val_accuracy: 0.6906\n",
      "\n",
      "Epoch 00008: ReduceLROnPlateau reducing learning rate to 3.1622775802825264e-05.\n",
      "End of epoch 7. Learning rate: 3.1622774e-05\n",
      "\n",
      "Epoch 00008: val_accuracy did not improve from 0.69535\n",
      "Epoch 9/100\n",
      "Learning rate:  3.1622774e-05\n",
      "599/599 [==============================] - 509s 849ms/step - loss: 0.3697 - accuracy: 0.9326 - val_loss: 1.3083 - val_accuracy: 0.7135\n",
      "End of epoch 8. Learning rate: 3.1622774e-05\n",
      "\n",
      "Epoch 00009: val_accuracy improved from 0.69535 to 0.71345, saving model to ensambleModel.tf\n",
      "Epoch 10/100\n",
      "Learning rate:  3.1622774e-05\n",
      "599/599 [==============================] - 507s 845ms/step - loss: 0.3234 - accuracy: 0.9442 - val_loss: 1.2934 - val_accuracy: 0.7187\n",
      "End of epoch 9. Learning rate: 3.1622774e-05\n",
      "\n",
      "Epoch 00010: val_accuracy improved from 0.71345 to 0.71874, saving model to ensambleModel.tf\n",
      "Epoch 11/100\n",
      "Learning rate:  3.1622774e-05\n",
      "599/599 [==============================] - 510s 850ms/step - loss: 0.2929 - accuracy: 0.9534 - val_loss: 1.3208 - val_accuracy: 0.7157\n",
      "End of epoch 10. Learning rate: 3.1622774e-05\n",
      "\n",
      "Epoch 00011: val_accuracy did not improve from 0.71874\n",
      "Epoch 12/100\n",
      "Learning rate:  3.1622774e-05\n",
      "599/599 [==============================] - 508s 847ms/step - loss: 0.2718 - accuracy: 0.9579 - val_loss: 1.3587 - val_accuracy: 0.7129\n",
      "End of epoch 11. Learning rate: 3.1622774e-05\n",
      "\n",
      "Epoch 00012: val_accuracy did not improve from 0.71874\n",
      "Epoch 13/100\n",
      "Learning rate:  3.1622774e-05\n",
      "599/599 [==============================] - 510s 851ms/step - loss: 0.2617 - accuracy: 0.9585 - val_loss: 1.3674 - val_accuracy: 0.7176\n",
      "End of epoch 12. Learning rate: 3.1622774e-05\n",
      "\n",
      "Epoch 00013: val_accuracy did not improve from 0.71874\n",
      "Epoch 14/100\n",
      "Learning rate:  3.1622774e-05\n",
      "599/599 [==============================] - 508s 848ms/step - loss: 0.2468 - accuracy: 0.9604 - val_loss: 1.3986 - val_accuracy: 0.7132\n",
      "End of epoch 13. Learning rate: 3.1622774e-05\n",
      "\n",
      "Epoch 00014: val_accuracy did not improve from 0.71874\n",
      "Epoch 15/100\n",
      "Learning rate:  3.1622774e-05\n",
      "599/599 [==============================] - 509s 848ms/step - loss: 0.2369 - accuracy: 0.9632 - val_loss: 1.4271 - val_accuracy: 0.7096\n",
      "\n",
      "Epoch 00015: ReduceLROnPlateau reducing learning rate to 9.999999259090306e-06.\n",
      "End of epoch 14. Learning rate: 9.999999e-06\n",
      "\n",
      "Epoch 00015: val_accuracy did not improve from 0.71874\n",
      "Epoch 16/100\n",
      "Learning rate:  9.999999e-06\n",
      "599/599 [==============================] - 511s 852ms/step - loss: 0.2191 - accuracy: 0.9688 - val_loss: 1.4124 - val_accuracy: 0.7126\n",
      "End of epoch 15. Learning rate: 9.999999e-06\n",
      "\n",
      "Epoch 00016: val_accuracy did not improve from 0.71874\n",
      "Epoch 17/100\n",
      "Learning rate:  9.999999e-06\n",
      "599/599 [==============================] - 689s 1s/step - loss: 0.2020 - accuracy: 0.9730 - val_loss: 1.4333 - val_accuracy: 0.7168\n",
      "End of epoch 16. Learning rate: 9.999999e-06\n",
      "\n",
      "Epoch 00017: val_accuracy did not improve from 0.71874\n",
      "Epoch 18/100\n",
      "Learning rate:  9.999999e-06\n",
      "599/599 [==============================] - 509s 849ms/step - loss: 0.1948 - accuracy: 0.9730 - val_loss: 1.4406 - val_accuracy: 0.7137\n",
      "End of epoch 17. Learning rate: 9.999999e-06\n",
      "\n",
      "Epoch 00018: val_accuracy did not improve from 0.71874\n",
      "Epoch 19/100\n",
      "Learning rate:  9.999999e-06\n",
      "599/599 [==============================] - 512s 854ms/step - loss: 0.1910 - accuracy: 0.9733 - val_loss: 1.4390 - val_accuracy: 0.7132\n",
      "End of epoch 18. Learning rate: 9.999999e-06\n",
      "\n",
      "Epoch 00019: val_accuracy did not improve from 0.71874\n",
      "Epoch 20/100\n",
      "Learning rate:  9.999999e-06\n",
      "599/599 [==============================] - 514s 857ms/step - loss: 0.1851 - accuracy: 0.9758 - val_loss: 1.4619 - val_accuracy: 0.7182\n",
      "\n",
      "Epoch 00020: ReduceLROnPlateau reducing learning rate to 3.162277292675049e-06.\n",
      "End of epoch 19. Learning rate: 3.1622774e-06\n",
      "\n",
      "Epoch 00020: val_accuracy did not improve from 0.71874\n",
      "Epoch 21/100\n",
      "Learning rate:  3.1622774e-06\n",
      "599/599 [==============================] - 512s 854ms/step - loss: 0.1801 - accuracy: 0.9773 - val_loss: 1.4593 - val_accuracy: 0.7187\n",
      "End of epoch 20. Learning rate: 3.1622774e-06\n",
      "\n",
      "Epoch 00021: val_accuracy did not improve from 0.71874\n",
      "Epoch 22/100\n",
      "Learning rate:  3.1622774e-06\n",
      "599/599 [==============================] - 512s 855ms/step - loss: 0.1768 - accuracy: 0.9780 - val_loss: 1.4607 - val_accuracy: 0.7207\n",
      "End of epoch 21. Learning rate: 3.1622774e-06\n",
      "\n",
      "Epoch 00022: val_accuracy improved from 0.71874 to 0.72069, saving model to ensambleModel.tf\n",
      "Epoch 23/100\n",
      "Learning rate:  3.1622774e-06\n",
      "599/599 [==============================] - 512s 854ms/step - loss: 0.1757 - accuracy: 0.9769 - val_loss: 1.4587 - val_accuracy: 0.7185\n",
      "End of epoch 22. Learning rate: 3.1622774e-06\n",
      "\n",
      "Epoch 00023: val_accuracy did not improve from 0.72069\n",
      "Epoch 24/100\n",
      "Learning rate:  3.1622774e-06\n",
      "599/599 [==============================] - 513s 856ms/step - loss: 0.1720 - accuracy: 0.9788 - val_loss: 1.4656 - val_accuracy: 0.7168\n",
      "End of epoch 23. Learning rate: 3.1622774e-06\n",
      "\n",
      "Epoch 00024: val_accuracy did not improve from 0.72069\n",
      "Epoch 25/100\n",
      "Learning rate:  3.1622774e-06\n",
      "599/599 [==============================] - 513s 855ms/step - loss: 0.1706 - accuracy: 0.9783 - val_loss: 1.4622 - val_accuracy: 0.7193\n",
      "End of epoch 24. Learning rate: 3.1622774e-06\n",
      "\n",
      "Epoch 00025: val_accuracy did not improve from 0.72069\n",
      "Epoch 26/100\n",
      "Learning rate:  3.1622774e-06\n",
      "599/599 [==============================] - 516s 862ms/step - loss: 0.1677 - accuracy: 0.9796 - val_loss: 1.4655 - val_accuracy: 0.7151\n",
      "End of epoch 25. Learning rate: 3.1622774e-06\n",
      "\n",
      "Epoch 00026: val_accuracy did not improve from 0.72069\n",
      "Epoch 27/100\n",
      "Learning rate:  3.1622774e-06\n",
      "599/599 [==============================] - 514s 858ms/step - loss: 0.1697 - accuracy: 0.9790 - val_loss: 1.4618 - val_accuracy: 0.7168\n",
      "\n",
      "Epoch 00027: ReduceLROnPlateau reducing learning rate to 9.999999115286567e-07.\n",
      "End of epoch 26. Learning rate: 9.999999e-07\n",
      "\n",
      "Epoch 00027: val_accuracy did not improve from 0.72069\n",
      "Epoch 28/100\n",
      "Learning rate:  9.999999e-07\n",
      "599/599 [==============================] - 514s 857ms/step - loss: 0.1651 - accuracy: 0.9794 - val_loss: 1.4635 - val_accuracy: 0.7168\n",
      "End of epoch 27. Learning rate: 9.999999e-07\n",
      "\n",
      "Epoch 00028: val_accuracy did not improve from 0.72069\n",
      "Epoch 29/100\n",
      "Learning rate:  9.999999e-07\n",
      "599/599 [==============================] - 514s 858ms/step - loss: 0.1637 - accuracy: 0.9795 - val_loss: 1.4654 - val_accuracy: 0.7154\n",
      "End of epoch 28. Learning rate: 9.999999e-07\n",
      "\n",
      "Epoch 00029: val_accuracy did not improve from 0.72069\n",
      "Epoch 30/100\n",
      "Learning rate:  9.999999e-07\n",
      "599/599 [==============================] - 515s 859ms/step - loss: 0.1626 - accuracy: 0.9800 - val_loss: 1.4648 - val_accuracy: 0.7182\n",
      "End of epoch 29. Learning rate: 9.999999e-07\n",
      "\n",
      "Epoch 00030: val_accuracy did not improve from 0.72069\n",
      "Epoch 31/100\n",
      "Learning rate:  9.999999e-07\n",
      "599/599 [==============================] - 514s 858ms/step - loss: 0.1623 - accuracy: 0.9803 - val_loss: 1.4682 - val_accuracy: 0.7176\n",
      "End of epoch 30. Learning rate: 9.999999e-07\n",
      "\n",
      "Epoch 00031: val_accuracy did not improve from 0.72069\n",
      "Epoch 32/100\n",
      "Learning rate:  9.999999e-07\n",
      "599/599 [==============================] - 512s 855ms/step - loss: 0.1612 - accuracy: 0.9803 - val_loss: 1.4705 - val_accuracy: 0.7182\n",
      "\n",
      "Epoch 00032: ReduceLROnPlateau reducing learning rate to 3.1622772926750485e-07.\n",
      "End of epoch 31. Learning rate: 3.1622773e-07\n",
      "\n",
      "Epoch 00032: val_accuracy did not improve from 0.72069\n",
      "Epoch 33/100\n",
      "Learning rate:  3.1622773e-07\n",
      "599/599 [==============================] - 522s 871ms/step - loss: 0.1597 - accuracy: 0.9809 - val_loss: 1.4710 - val_accuracy: 0.7190\n",
      "End of epoch 32. Learning rate: 3.1622773e-07\n",
      "\n",
      "Epoch 00033: val_accuracy did not improve from 0.72069\n",
      "Epoch 34/100\n",
      "Learning rate:  3.1622773e-07\n",
      "599/599 [==============================] - 517s 863ms/step - loss: 0.1608 - accuracy: 0.9808 - val_loss: 1.4722 - val_accuracy: 0.7185\n",
      "End of epoch 33. Learning rate: 3.1622773e-07\n",
      "\n",
      "Epoch 00034: val_accuracy did not improve from 0.72069\n",
      "Epoch 35/100\n",
      "Learning rate:  3.1622773e-07\n",
      "599/599 [==============================] - 514s 858ms/step - loss: 0.1632 - accuracy: 0.9797 - val_loss: 1.4734 - val_accuracy: 0.7190\n",
      "End of epoch 34. Learning rate: 3.1622773e-07\n",
      "\n",
      "Epoch 00035: val_accuracy did not improve from 0.72069\n",
      "Epoch 36/100\n",
      "Learning rate:  3.1622773e-07\n",
      "599/599 [==============================] - 520s 867ms/step - loss: 0.1623 - accuracy: 0.9807 - val_loss: 1.4730 - val_accuracy: 0.7196\n",
      "End of epoch 35. Learning rate: 3.1622773e-07\n",
      "\n",
      "Epoch 00036: val_accuracy did not improve from 0.72069\n",
      "Epoch 37/100\n",
      "Learning rate:  3.1622773e-07\n",
      "599/599 [==============================] - 515s 860ms/step - loss: 0.1594 - accuracy: 0.9809 - val_loss: 1.4710 - val_accuracy: 0.7185\n",
      "\n",
      "Epoch 00037: ReduceLROnPlateau reducing learning rate to 1e-07.\n",
      "End of epoch 36. Learning rate: 1e-07\n",
      "\n",
      "Epoch 00037: val_accuracy did not improve from 0.72069\n",
      "Epoch 38/100\n",
      "Learning rate:  1e-07\n",
      "599/599 [==============================] - 514s 857ms/step - loss: 0.1608 - accuracy: 0.9807 - val_loss: 1.4738 - val_accuracy: 0.7190\n",
      "End of epoch 37. Learning rate: 1e-07\n",
      "\n",
      "Epoch 00038: val_accuracy did not improve from 0.72069\n",
      "Epoch 39/100\n",
      "Learning rate:  1e-07\n",
      "599/599 [==============================] - 514s 857ms/step - loss: 0.1589 - accuracy: 0.9807 - val_loss: 1.4725 - val_accuracy: 0.7171\n",
      "End of epoch 38. Learning rate: 1e-07\n",
      "\n",
      "Epoch 00039: val_accuracy did not improve from 0.72069\n",
      "Epoch 40/100\n",
      "Learning rate:  1e-07\n",
      "599/599 [==============================] - 518s 864ms/step - loss: 0.1612 - accuracy: 0.9808 - val_loss: 1.4739 - val_accuracy: 0.7187\n",
      "End of epoch 39. Learning rate: 1e-07\n",
      "\n",
      "Epoch 00040: val_accuracy did not improve from 0.72069\n",
      "Epoch 41/100\n",
      "Learning rate:  1e-07\n",
      "599/599 [==============================] - 522s 872ms/step - loss: 0.1630 - accuracy: 0.9794 - val_loss: 1.4712 - val_accuracy: 0.7187\n",
      "End of epoch 40. Learning rate: 1e-07\n",
      "\n",
      "Epoch 00041: val_accuracy did not improve from 0.72069\n",
      "Epoch 42/100\n",
      "Learning rate:  1e-07\n",
      "599/599 [==============================] - 516s 861ms/step - loss: 0.1605 - accuracy: 0.9798 - val_loss: 1.4733 - val_accuracy: 0.7187\n",
      "Restoring model weights from the end of the best epoch.\n",
      "End of epoch 41. Learning rate: 1e-07\n",
      "\n",
      "Epoch 00042: val_accuracy did not improve from 0.72069\n",
      "Epoch 00042: early stopping\n",
      "CPU times: user 8h 9min 22s, sys: 28min 46s, total: 8h 38min 8s\n",
      "Wall time: 6h 33min 54s\n"
     ]
    }
   ],
   "source": [
    "%%time\n",
    "\n",
    "model_history = model.fit_generator(generator=train_generator, \n",
    "                                steps_per_epoch=len(train_generator), \n",
    "                                validation_data=val_generator, \n",
    "                                validation_steps=len(val_generator),\n",
    "                                epochs=epochs,\n",
    "                                callbacks=[reducelr, earlystop, lambdacb, tensorboard, checkpoint])"
   ]
  },
  {
   "cell_type": "code",
   "execution_count": 10,
   "id": "b9813ab4",
   "metadata": {
    "execution": {
     "iopub.execute_input": "2023-01-24T11:32:24.345156Z",
     "iopub.status.busy": "2023-01-24T11:32:24.344713Z",
     "iopub.status.idle": "2023-01-24T11:32:24.442219Z",
     "shell.execute_reply": "2023-01-24T11:32:24.440977Z"
    },
    "id": "3cdc2754",
    "outputId": "865bd4ba-03f5-4c72-a694-1ac9d5fd41cc",
    "papermill": {
     "duration": 1.471815,
     "end_time": "2023-01-24T11:32:24.444443",
     "exception": false,
     "start_time": "2023-01-24T11:32:22.972628",
     "status": "completed"
    },
    "tags": []
   },
   "outputs": [
    {
     "data": {
      "text/html": [
       "<div>\n",
       "<style scoped>\n",
       "    .dataframe tbody tr th:only-of-type {\n",
       "        vertical-align: middle;\n",
       "    }\n",
       "\n",
       "    .dataframe tbody tr th {\n",
       "        vertical-align: top;\n",
       "    }\n",
       "\n",
       "    .dataframe thead th {\n",
       "        text-align: right;\n",
       "    }\n",
       "</style>\n",
       "<table border=\"1\" class=\"dataframe\">\n",
       "  <thead>\n",
       "    <tr style=\"text-align: right;\">\n",
       "      <th></th>\n",
       "      <th>loss</th>\n",
       "      <th>accuracy</th>\n",
       "      <th>val_loss</th>\n",
       "      <th>val_accuracy</th>\n",
       "      <th>lr</th>\n",
       "    </tr>\n",
       "  </thead>\n",
       "  <tbody>\n",
       "    <tr>\n",
       "      <th>0</th>\n",
       "      <td>0.575989</td>\n",
       "      <td>0.925738</td>\n",
       "      <td>1.389150</td>\n",
       "      <td>0.683097</td>\n",
       "      <td>1.000000e-04</td>\n",
       "    </tr>\n",
       "    <tr>\n",
       "      <th>1</th>\n",
       "      <td>0.568447</td>\n",
       "      <td>0.909018</td>\n",
       "      <td>1.371622</td>\n",
       "      <td>0.681426</td>\n",
       "      <td>1.000000e-04</td>\n",
       "    </tr>\n",
       "    <tr>\n",
       "      <th>2</th>\n",
       "      <td>0.573347</td>\n",
       "      <td>0.894005</td>\n",
       "      <td>1.328992</td>\n",
       "      <td>0.695350</td>\n",
       "      <td>1.000000e-04</td>\n",
       "    </tr>\n",
       "    <tr>\n",
       "      <th>3</th>\n",
       "      <td>0.536049</td>\n",
       "      <td>0.898534</td>\n",
       "      <td>1.308237</td>\n",
       "      <td>0.684489</td>\n",
       "      <td>1.000000e-04</td>\n",
       "    </tr>\n",
       "    <tr>\n",
       "      <th>4</th>\n",
       "      <td>0.536686</td>\n",
       "      <td>0.893796</td>\n",
       "      <td>1.336057</td>\n",
       "      <td>0.687274</td>\n",
       "      <td>1.000000e-04</td>\n",
       "    </tr>\n",
       "    <tr>\n",
       "      <th>5</th>\n",
       "      <td>0.488974</td>\n",
       "      <td>0.902226</td>\n",
       "      <td>1.346953</td>\n",
       "      <td>0.692286</td>\n",
       "      <td>1.000000e-04</td>\n",
       "    </tr>\n",
       "    <tr>\n",
       "      <th>6</th>\n",
       "      <td>0.483193</td>\n",
       "      <td>0.899161</td>\n",
       "      <td>1.339773</td>\n",
       "      <td>0.687274</td>\n",
       "      <td>1.000000e-04</td>\n",
       "    </tr>\n",
       "    <tr>\n",
       "      <th>7</th>\n",
       "      <td>0.490517</td>\n",
       "      <td>0.893831</td>\n",
       "      <td>1.261933</td>\n",
       "      <td>0.690615</td>\n",
       "      <td>1.000000e-04</td>\n",
       "    </tr>\n",
       "    <tr>\n",
       "      <th>8</th>\n",
       "      <td>0.369716</td>\n",
       "      <td>0.932634</td>\n",
       "      <td>1.308291</td>\n",
       "      <td>0.713450</td>\n",
       "      <td>3.162277e-05</td>\n",
       "    </tr>\n",
       "    <tr>\n",
       "      <th>9</th>\n",
       "      <td>0.323434</td>\n",
       "      <td>0.944164</td>\n",
       "      <td>1.293427</td>\n",
       "      <td>0.718741</td>\n",
       "      <td>3.162277e-05</td>\n",
       "    </tr>\n",
       "    <tr>\n",
       "      <th>10</th>\n",
       "      <td>0.292883</td>\n",
       "      <td>0.953360</td>\n",
       "      <td>1.320769</td>\n",
       "      <td>0.715678</td>\n",
       "      <td>3.162277e-05</td>\n",
       "    </tr>\n",
       "    <tr>\n",
       "      <th>11</th>\n",
       "      <td>0.271784</td>\n",
       "      <td>0.957923</td>\n",
       "      <td>1.358695</td>\n",
       "      <td>0.712893</td>\n",
       "      <td>3.162277e-05</td>\n",
       "    </tr>\n",
       "    <tr>\n",
       "      <th>12</th>\n",
       "      <td>0.261734</td>\n",
       "      <td>0.958550</td>\n",
       "      <td>1.367424</td>\n",
       "      <td>0.717627</td>\n",
       "      <td>3.162277e-05</td>\n",
       "    </tr>\n",
       "    <tr>\n",
       "      <th>13</th>\n",
       "      <td>0.246848</td>\n",
       "      <td>0.960396</td>\n",
       "      <td>1.398576</td>\n",
       "      <td>0.713172</td>\n",
       "      <td>3.162277e-05</td>\n",
       "    </tr>\n",
       "    <tr>\n",
       "      <th>14</th>\n",
       "      <td>0.236931</td>\n",
       "      <td>0.963217</td>\n",
       "      <td>1.427118</td>\n",
       "      <td>0.709552</td>\n",
       "      <td>3.162277e-05</td>\n",
       "    </tr>\n",
       "    <tr>\n",
       "      <th>15</th>\n",
       "      <td>0.219127</td>\n",
       "      <td>0.968790</td>\n",
       "      <td>1.412416</td>\n",
       "      <td>0.712615</td>\n",
       "      <td>9.999999e-06</td>\n",
       "    </tr>\n",
       "    <tr>\n",
       "      <th>16</th>\n",
       "      <td>0.202044</td>\n",
       "      <td>0.973040</td>\n",
       "      <td>1.433291</td>\n",
       "      <td>0.716792</td>\n",
       "      <td>9.999999e-06</td>\n",
       "    </tr>\n",
       "    <tr>\n",
       "      <th>17</th>\n",
       "      <td>0.194785</td>\n",
       "      <td>0.972970</td>\n",
       "      <td>1.440572</td>\n",
       "      <td>0.713729</td>\n",
       "      <td>9.999999e-06</td>\n",
       "    </tr>\n",
       "    <tr>\n",
       "      <th>18</th>\n",
       "      <td>0.190995</td>\n",
       "      <td>0.973318</td>\n",
       "      <td>1.439019</td>\n",
       "      <td>0.713172</td>\n",
       "      <td>9.999999e-06</td>\n",
       "    </tr>\n",
       "    <tr>\n",
       "      <th>19</th>\n",
       "      <td>0.185099</td>\n",
       "      <td>0.975826</td>\n",
       "      <td>1.461870</td>\n",
       "      <td>0.718184</td>\n",
       "      <td>9.999999e-06</td>\n",
       "    </tr>\n",
       "    <tr>\n",
       "      <th>20</th>\n",
       "      <td>0.180146</td>\n",
       "      <td>0.977289</td>\n",
       "      <td>1.459346</td>\n",
       "      <td>0.718741</td>\n",
       "      <td>3.162277e-06</td>\n",
       "    </tr>\n",
       "    <tr>\n",
       "      <th>21</th>\n",
       "      <td>0.176763</td>\n",
       "      <td>0.977986</td>\n",
       "      <td>1.460749</td>\n",
       "      <td>0.720691</td>\n",
       "      <td>3.162277e-06</td>\n",
       "    </tr>\n",
       "    <tr>\n",
       "      <th>22</th>\n",
       "      <td>0.175683</td>\n",
       "      <td>0.976906</td>\n",
       "      <td>1.458675</td>\n",
       "      <td>0.718463</td>\n",
       "      <td>3.162277e-06</td>\n",
       "    </tr>\n",
       "    <tr>\n",
       "      <th>23</th>\n",
       "      <td>0.171986</td>\n",
       "      <td>0.978822</td>\n",
       "      <td>1.465592</td>\n",
       "      <td>0.716792</td>\n",
       "      <td>3.162277e-06</td>\n",
       "    </tr>\n",
       "    <tr>\n",
       "      <th>24</th>\n",
       "      <td>0.170606</td>\n",
       "      <td>0.978299</td>\n",
       "      <td>1.462192</td>\n",
       "      <td>0.719298</td>\n",
       "      <td>3.162277e-06</td>\n",
       "    </tr>\n",
       "    <tr>\n",
       "      <th>25</th>\n",
       "      <td>0.167715</td>\n",
       "      <td>0.979553</td>\n",
       "      <td>1.465474</td>\n",
       "      <td>0.715121</td>\n",
       "      <td>3.162277e-06</td>\n",
       "    </tr>\n",
       "    <tr>\n",
       "      <th>26</th>\n",
       "      <td>0.169748</td>\n",
       "      <td>0.978961</td>\n",
       "      <td>1.461771</td>\n",
       "      <td>0.716792</td>\n",
       "      <td>3.162277e-06</td>\n",
       "    </tr>\n",
       "    <tr>\n",
       "      <th>27</th>\n",
       "      <td>0.165141</td>\n",
       "      <td>0.979414</td>\n",
       "      <td>1.463467</td>\n",
       "      <td>0.716792</td>\n",
       "      <td>9.999999e-07</td>\n",
       "    </tr>\n",
       "    <tr>\n",
       "      <th>28</th>\n",
       "      <td>0.163730</td>\n",
       "      <td>0.979484</td>\n",
       "      <td>1.465362</td>\n",
       "      <td>0.715400</td>\n",
       "      <td>9.999999e-07</td>\n",
       "    </tr>\n",
       "    <tr>\n",
       "      <th>29</th>\n",
       "      <td>0.162606</td>\n",
       "      <td>0.980006</td>\n",
       "      <td>1.464822</td>\n",
       "      <td>0.718184</td>\n",
       "      <td>9.999999e-07</td>\n",
       "    </tr>\n",
       "    <tr>\n",
       "      <th>30</th>\n",
       "      <td>0.162323</td>\n",
       "      <td>0.980320</td>\n",
       "      <td>1.468174</td>\n",
       "      <td>0.717627</td>\n",
       "      <td>9.999999e-07</td>\n",
       "    </tr>\n",
       "    <tr>\n",
       "      <th>31</th>\n",
       "      <td>0.161180</td>\n",
       "      <td>0.980320</td>\n",
       "      <td>1.470503</td>\n",
       "      <td>0.718184</td>\n",
       "      <td>9.999999e-07</td>\n",
       "    </tr>\n",
       "    <tr>\n",
       "      <th>32</th>\n",
       "      <td>0.159750</td>\n",
       "      <td>0.980877</td>\n",
       "      <td>1.471043</td>\n",
       "      <td>0.719020</td>\n",
       "      <td>3.162277e-07</td>\n",
       "    </tr>\n",
       "    <tr>\n",
       "      <th>33</th>\n",
       "      <td>0.160821</td>\n",
       "      <td>0.980773</td>\n",
       "      <td>1.472245</td>\n",
       "      <td>0.718463</td>\n",
       "      <td>3.162277e-07</td>\n",
       "    </tr>\n",
       "    <tr>\n",
       "      <th>34</th>\n",
       "      <td>0.163180</td>\n",
       "      <td>0.979693</td>\n",
       "      <td>1.473388</td>\n",
       "      <td>0.719020</td>\n",
       "      <td>3.162277e-07</td>\n",
       "    </tr>\n",
       "    <tr>\n",
       "      <th>35</th>\n",
       "      <td>0.162310</td>\n",
       "      <td>0.980703</td>\n",
       "      <td>1.473007</td>\n",
       "      <td>0.719577</td>\n",
       "      <td>3.162277e-07</td>\n",
       "    </tr>\n",
       "    <tr>\n",
       "      <th>36</th>\n",
       "      <td>0.159422</td>\n",
       "      <td>0.980877</td>\n",
       "      <td>1.471002</td>\n",
       "      <td>0.718463</td>\n",
       "      <td>3.162277e-07</td>\n",
       "    </tr>\n",
       "    <tr>\n",
       "      <th>37</th>\n",
       "      <td>0.160764</td>\n",
       "      <td>0.980703</td>\n",
       "      <td>1.473800</td>\n",
       "      <td>0.719020</td>\n",
       "      <td>1.000000e-07</td>\n",
       "    </tr>\n",
       "    <tr>\n",
       "      <th>38</th>\n",
       "      <td>0.158903</td>\n",
       "      <td>0.980703</td>\n",
       "      <td>1.472538</td>\n",
       "      <td>0.717070</td>\n",
       "      <td>1.000000e-07</td>\n",
       "    </tr>\n",
       "    <tr>\n",
       "      <th>39</th>\n",
       "      <td>0.161246</td>\n",
       "      <td>0.980773</td>\n",
       "      <td>1.473935</td>\n",
       "      <td>0.718741</td>\n",
       "      <td>1.000000e-07</td>\n",
       "    </tr>\n",
       "    <tr>\n",
       "      <th>40</th>\n",
       "      <td>0.162996</td>\n",
       "      <td>0.979449</td>\n",
       "      <td>1.471234</td>\n",
       "      <td>0.718741</td>\n",
       "      <td>1.000000e-07</td>\n",
       "    </tr>\n",
       "    <tr>\n",
       "      <th>41</th>\n",
       "      <td>0.160515</td>\n",
       "      <td>0.979832</td>\n",
       "      <td>1.473310</td>\n",
       "      <td>0.718741</td>\n",
       "      <td>1.000000e-07</td>\n",
       "    </tr>\n",
       "  </tbody>\n",
       "</table>\n",
       "</div>"
      ],
      "text/plain": [
       "        loss  accuracy  val_loss  val_accuracy            lr\n",
       "0   0.575989  0.925738  1.389150      0.683097  1.000000e-04\n",
       "1   0.568447  0.909018  1.371622      0.681426  1.000000e-04\n",
       "2   0.573347  0.894005  1.328992      0.695350  1.000000e-04\n",
       "3   0.536049  0.898534  1.308237      0.684489  1.000000e-04\n",
       "4   0.536686  0.893796  1.336057      0.687274  1.000000e-04\n",
       "5   0.488974  0.902226  1.346953      0.692286  1.000000e-04\n",
       "6   0.483193  0.899161  1.339773      0.687274  1.000000e-04\n",
       "7   0.490517  0.893831  1.261933      0.690615  1.000000e-04\n",
       "8   0.369716  0.932634  1.308291      0.713450  3.162277e-05\n",
       "9   0.323434  0.944164  1.293427      0.718741  3.162277e-05\n",
       "10  0.292883  0.953360  1.320769      0.715678  3.162277e-05\n",
       "11  0.271784  0.957923  1.358695      0.712893  3.162277e-05\n",
       "12  0.261734  0.958550  1.367424      0.717627  3.162277e-05\n",
       "13  0.246848  0.960396  1.398576      0.713172  3.162277e-05\n",
       "14  0.236931  0.963217  1.427118      0.709552  3.162277e-05\n",
       "15  0.219127  0.968790  1.412416      0.712615  9.999999e-06\n",
       "16  0.202044  0.973040  1.433291      0.716792  9.999999e-06\n",
       "17  0.194785  0.972970  1.440572      0.713729  9.999999e-06\n",
       "18  0.190995  0.973318  1.439019      0.713172  9.999999e-06\n",
       "19  0.185099  0.975826  1.461870      0.718184  9.999999e-06\n",
       "20  0.180146  0.977289  1.459346      0.718741  3.162277e-06\n",
       "21  0.176763  0.977986  1.460749      0.720691  3.162277e-06\n",
       "22  0.175683  0.976906  1.458675      0.718463  3.162277e-06\n",
       "23  0.171986  0.978822  1.465592      0.716792  3.162277e-06\n",
       "24  0.170606  0.978299  1.462192      0.719298  3.162277e-06\n",
       "25  0.167715  0.979553  1.465474      0.715121  3.162277e-06\n",
       "26  0.169748  0.978961  1.461771      0.716792  3.162277e-06\n",
       "27  0.165141  0.979414  1.463467      0.716792  9.999999e-07\n",
       "28  0.163730  0.979484  1.465362      0.715400  9.999999e-07\n",
       "29  0.162606  0.980006  1.464822      0.718184  9.999999e-07\n",
       "30  0.162323  0.980320  1.468174      0.717627  9.999999e-07\n",
       "31  0.161180  0.980320  1.470503      0.718184  9.999999e-07\n",
       "32  0.159750  0.980877  1.471043      0.719020  3.162277e-07\n",
       "33  0.160821  0.980773  1.472245      0.718463  3.162277e-07\n",
       "34  0.163180  0.979693  1.473388      0.719020  3.162277e-07\n",
       "35  0.162310  0.980703  1.473007      0.719577  3.162277e-07\n",
       "36  0.159422  0.980877  1.471002      0.718463  3.162277e-07\n",
       "37  0.160764  0.980703  1.473800      0.719020  1.000000e-07\n",
       "38  0.158903  0.980703  1.472538      0.717070  1.000000e-07\n",
       "39  0.161246  0.980773  1.473935      0.718741  1.000000e-07\n",
       "40  0.162996  0.979449  1.471234      0.718741  1.000000e-07\n",
       "41  0.160515  0.979832  1.473310      0.718741  1.000000e-07"
      ]
     },
     "execution_count": 10,
     "metadata": {},
     "output_type": "execute_result"
    }
   ],
   "source": [
    "history = pd.DataFrame(model_history.history)\n",
    "history.to_csv('ensambleModel.csv', index=False)\n",
    "history"
   ]
  },
  {
   "cell_type": "markdown",
   "id": "82eaf08b",
   "metadata": {
    "id": "8b9be599",
    "papermill": {
     "duration": 1.336632,
     "end_time": "2023-01-24T11:32:27.285797",
     "exception": false,
     "start_time": "2023-01-24T11:32:25.949165",
     "status": "completed"
    },
    "tags": []
   },
   "source": [
    "<h2>Plotting<h2>"
   ]
  },
  {
   "cell_type": "code",
   "execution_count": 11,
   "id": "c07186dd",
   "metadata": {
    "execution": {
     "iopub.execute_input": "2023-01-24T11:32:30.694653Z",
     "iopub.status.busy": "2023-01-24T11:32:30.694225Z",
     "iopub.status.idle": "2023-01-24T11:32:31.019818Z",
     "shell.execute_reply": "2023-01-24T11:32:31.018902Z"
    },
    "id": "f6865712",
    "outputId": "1c179ff6-3da9-47e5-fbe9-97e5bb39d627",
    "papermill": {
     "duration": 2.101507,
     "end_time": "2023-01-24T11:32:31.022718",
     "exception": false,
     "start_time": "2023-01-24T11:32:28.921211",
     "status": "completed"
    },
    "tags": []
   },
   "outputs": [
    {
     "data": {
      "image/png": "[encoded data removed]",
      "text/plain": [
       "<Figure size 864x432 with 1 Axes>"
      ]
     },
     "metadata": {
      "needs_background": "light"
     },
     "output_type": "display_data"
    }
   ],
   "source": [
    "f, ax=plt.subplots(figsize=(12,6))\n",
    "plt.plot(model_history.history['accuracy'], label='Training Accuracy')\n",
    "plt.plot(model_history.history['val_accuracy'], label='Validation Accuracy')\n",
    "plt.title('Training and Validation Accuracy')\n",
    "plt.ylabel('Accuracy')\n",
    "plt.xlabel('epoch')\n",
    "plt.legend()\n",
    "plt.show()"
   ]
  },
  {
   "cell_type": "code",
   "execution_count": 12,
   "id": "83f5fdc6",
   "metadata": {
    "execution": {
     "iopub.execute_input": "2023-01-24T11:32:34.019536Z",
     "iopub.status.busy": "2023-01-24T11:32:34.019145Z",
     "iopub.status.idle": "2023-01-24T11:32:34.248253Z",
     "shell.execute_reply": "2023-01-24T11:32:34.247070Z"
    },
    "id": "cbfa5879",
    "outputId": "e28dbab3-262f-4acf-8f9c-2629466e5d17",
    "papermill": {
     "duration": 1.679843,
     "end_time": "2023-01-24T11:32:34.250475",
     "exception": false,
     "start_time": "2023-01-24T11:32:32.570632",
     "status": "completed"
    },
    "tags": []
   },
   "outputs": [
    {
     "data": {
      "image/png": "[encoded data removed]",
      "text/plain": [
       "<Figure size 864x432 with 1 Axes>"
      ]
     },
     "metadata": {
      "needs_background": "light"
     },
     "output_type": "display_data"
    }
   ],
   "source": [
    "f, ax=plt.subplots(figsize=(12,6))\n",
    "plt.plot(model_history.history['loss'], label='Training Loss')\n",
    "plt.plot(model_history.history['val_loss'], label='Validation Loss')\n",
    "plt.title('Training and Validation Loss')\n",
    "plt.ylabel('loss')\n",
    "plt.xlabel('epoch')\n",
    "plt.legend()\n",
    "plt.show()\n"
   ]
  },
  {
   "cell_type": "markdown",
   "id": "621e0f16",
   "metadata": {
    "id": "abf5304d",
    "papermill": {
     "duration": 1.437369,
     "end_time": "2023-01-24T11:32:37.043971",
     "exception": false,
     "start_time": "2023-01-24T11:32:35.606602",
     "status": "completed"
    },
    "tags": []
   },
   "source": [
    "<h2>Model Evaluation<h2>"
   ]
  },
  {
   "cell_type": "code",
   "execution_count": 13,
   "id": "fcbafaa4",
   "metadata": {
    "execution": {
     "iopub.execute_input": "2023-01-24T11:32:40.117231Z",
     "iopub.status.busy": "2023-01-24T11:32:40.116835Z",
     "iopub.status.idle": "2023-01-24T11:33:31.247618Z",
     "shell.execute_reply": "2023-01-24T11:33:31.246440Z"
    },
    "id": "758b9797",
    "outputId": "3d9c8c7a-189b-4c82-e826-e4922f3f3612",
    "papermill": {
     "duration": 54.21151,
     "end_time": "2023-01-24T11:33:32.642551",
     "exception": false,
     "start_time": "2023-01-24T11:32:38.431041",
     "status": "completed"
    },
    "tags": []
   },
   "outputs": [
    {
     "name": "stdout",
     "output_type": "stream",
     "text": [
      "Classification Report\n",
      "              precision    recall  f1-score   support\n",
      "\n",
      "       angry       0.66      0.67      0.66       479\n",
      "     disgust       0.84      0.69      0.76        55\n",
      "        fear       0.64      0.56      0.60       512\n",
      "       happy       0.91      0.91      0.91       887\n",
      "     neutral       0.68      0.73      0.70       616\n",
      "         sad       0.61      0.64      0.62       623\n",
      "    surprise       0.86      0.82      0.84       415\n",
      "\n",
      "    accuracy                           0.74      3587\n",
      "   macro avg       0.74      0.72      0.73      3587\n",
      "weighted avg       0.74      0.74      0.74      3587\n",
      "\n"
     ]
    }
   ],
   "source": [
    "predictions = model.predict_generator(test_generator, steps=len(test_generator))\n",
    "y = np.argmax(predictions, axis=1)\n",
    "\n",
    "print('Classification Report')\n",
    "cr = classification_report(y_true=test_generator.classes, y_pred=y, target_names=test_generator.class_indices)\n",
    "print(cr)"
   ]
  },
  {
   "cell_type": "code",
   "execution_count": 14,
   "id": "092eac78",
   "metadata": {
    "execution": {
     "iopub.execute_input": "2023-01-24T11:33:36.183363Z",
     "iopub.status.busy": "2023-01-24T11:33:36.182951Z",
     "iopub.status.idle": "2023-01-24T11:33:51.453047Z",
     "shell.execute_reply": "2023-01-24T11:33:51.452019Z"
    },
    "papermill": {
     "duration": 16.811761,
     "end_time": "2023-01-24T11:33:51.455502",
     "exception": false,
     "start_time": "2023-01-24T11:33:34.643741",
     "status": "completed"
    },
    "tags": []
   },
   "outputs": [
    {
     "data": {
      "text/plain": [
       "array([[319,   4,  46,  12,  36,  57,   5],\n",
       "       [ 11,  38,   2,   1,   2,   0,   1],\n",
       "       [ 52,   2, 289,  11,  43,  92,  23],\n",
       "       [ 10,   0,   9, 811,  25,  16,  16],\n",
       "       [ 27,   1,  27,  22, 451,  86,   2],\n",
       "       [ 48,   0,  55,  17,  97, 399,   7],\n",
       "       [ 16,   0,  26,  17,  10,   6, 340]])"
      ]
     },
     "execution_count": 14,
     "metadata": {},
     "output_type": "execute_result"
    }
   ],
   "source": [
    "#confusion matrix\n",
    "Y_pred = model.predict_generator(test_generator)\n",
    "y_pred = np.argmax(Y_pred, axis=1)\n",
    "y_true=test_generator.classes\n",
    "\n",
    "\n",
    "from sklearn.metrics import confusion_matrix\n",
    "cm=confusion_matrix(y_true,y_pred)\n",
    "cm"
   ]
  },
  {
   "cell_type": "code",
   "execution_count": 15,
   "id": "20e1bb1f",
   "metadata": {
    "execution": {
     "iopub.execute_input": "2023-01-24T11:33:54.289360Z",
     "iopub.status.busy": "2023-01-24T11:33:54.288975Z",
     "iopub.status.idle": "2023-01-24T11:33:54.764015Z",
     "shell.execute_reply": "2023-01-24T11:33:54.762986Z"
    },
    "papermill": {
     "duration": 1.854144,
     "end_time": "2023-01-24T11:33:54.766196",
     "exception": false,
     "start_time": "2023-01-24T11:33:52.912052",
     "status": "completed"
    },
    "tags": []
   },
   "outputs": [
    {
     "data": {
      "image/png": "[encoded data removed]",
      "text/plain": [
       "<Figure size 864x576 with 2 Axes>"
      ]
     },
     "metadata": {
      "needs_background": "light"
     },
     "output_type": "display_data"
    }
   ],
   "source": [
    "f, ax=plt.subplots(figsize=(12,8))\n",
    "sns.heatmap(cm,annot=True,linewidths=0.5,linecolor=\"red\",fmt=\".0f\",ax=ax,xticklabels=target_names, yticklabels=target_names,)\n",
    "plt.xlabel(\"y_pred\")\n",
    "plt.ylabel(\"y_true\")\n",
    "plt.show()"
   ]
  },
  {
   "cell_type": "code",
   "execution_count": 16,
   "id": "9fd5152c",
   "metadata": {
    "execution": {
     "iopub.execute_input": "2023-01-24T11:33:57.955752Z",
     "iopub.status.busy": "2023-01-24T11:33:57.955385Z",
     "iopub.status.idle": "2023-01-24T11:34:14.379150Z",
     "shell.execute_reply": "2023-01-24T11:34:14.378065Z"
    },
    "id": "46f5ef7e",
    "outputId": "5427b125-c33d-49a2-c46a-94e3ceb2abce",
    "papermill": {
     "duration": 18.078706,
     "end_time": "2023-01-24T11:34:14.381521",
     "exception": false,
     "start_time": "2023-01-24T11:33:56.302815",
     "status": "completed"
    },
    "tags": []
   },
   "outputs": [
    {
     "data": {
      "text/plain": [
       "[1.306830883026123, 0.7379425764083862]"
      ]
     },
     "execution_count": 16,
     "metadata": {},
     "output_type": "execute_result"
    }
   ],
   "source": [
    "model.evaluate(test_generator , verbose = 0)"
   ]
  }
 ],
 "metadata": {
  "kernelspec": {
   "display_name": "Python 3",
   "language": "python",
   "name": "python3"
  },
  "language_info": {
   "codemirror_mode": {
    "name": "ipython",
    "version": 3
   },
   "file_extension": ".py",
   "mimetype": "text/x-python",
   "name": "python",
   "nbconvert_exporter": "python",
   "pygments_lexer": "ipython3",
   "version": "3.7.12"
  },
  "papermill": {
   "default_parameters": {},
   "duration": 23814.199764,
   "end_time": "2023-01-24T11:34:19.445120",
   "environment_variables": {},
   "exception": null,
   "input_path": "__notebook__.ipynb",
   "output_path": "__notebook__.ipynb",
   "parameters": {},
   "start_time": "2023-01-24T04:57:25.245356",
   "version": "2.3.4"
  }
 },
 "nbformat": 4,
 "nbformat_minor": 5
}
